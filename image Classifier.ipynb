{
 "cells": [
  {
   "cell_type": "markdown",
   "id": "3c193280",
   "metadata": {},
   "source": [
    "# Classification of Images using Tensorflow\n",
    "\n"
   ]
  },
  {
   "cell_type": "markdown",
   "id": "8d6e1ce6",
   "metadata": {},
   "source": [
    "# Import the necessary Librariries\n"
   ]
  },
  {
   "cell_type": "code",
   "execution_count": 1,
   "id": "cc894a57",
   "metadata": {},
   "outputs": [],
   "source": [
    "import numpy as np\n",
    "import pandas as pd\n",
    "import os\n",
    "from sklearn.metrics import classification_report\n",
    "import seaborn as sn; sn.set(font_scale=1.4)\n",
    "from sklearn.utils import shuffle\n",
    "import matplotlib.pyplot as plt\n",
    "\n",
    "import tensorflow as tf\n",
    "from tqdm import tqdm\n",
    "import cv2"
   ]
  },
  {
   "cell_type": "markdown",
   "id": "918872ba",
   "metadata": {},
   "source": [
    "You will also declare variables that contain the class names and the corresponding label and define the desired IMAGE_SIZE for our pictures. You must define the labels corresponding to the various classes in the dataset."
   ]
  },
  {
   "cell_type": "code",
   "execution_count": 2,
   "id": "453c33a1",
   "metadata": {},
   "outputs": [
    {
     "name": "stdout",
     "output_type": "stream",
     "text": [
      "{'cat': 0, 'Cheetah': 1, 'dog': 2, 'lion': 3, 'tiger': 4}\n"
     ]
    }
   ],
   "source": [
    "Class_name=[\"cat\",\"Cheetah\",\"dog\",\"lion\",\"tiger\"]\n",
    "class_name_labels={classes: i for i, classes in enumerate(Class_name)}\n",
    "\n",
    "nb_classes=len(Class_name)\n",
    "print(class_name_labels)\n",
    "IMAGE_SIZE=(150,150)"
   ]
  },
  {
   "cell_type": "markdown",
   "id": "5ab5a27f",
   "metadata": {},
   "source": [
    "Now, load our data. You will define a function called load_data which you can use to load your train and test data. \n",
    "\n",
    "You have two folders within the data folder, the seg_train folder, and seg_test folder.\n",
    "Within each of these folders, you also have a folder containing images from each class. \n",
    "You will read individual images from each folder and push them into your image array after converting them to RPG form and resizing.\n",
    "You will append a label to this image and append it to the output array."
   ]
  },
  {
   "cell_type": "code",
   "execution_count": 3,
   "id": "cb53677a",
   "metadata": {},
   "outputs": [],
   "source": [
    "def load_data():\n",
    "    DIRECTORY=r\"C:/Users/DELL/Desktop/Image classifer\"\n",
    "    CATEGORY=[\"seg_train\",\"seg_test\"]\n",
    "    \n",
    "    output=[]\n",
    "    \n",
    "    for category in CATEGORY:\n",
    "        path = os.path.join(DIRECTORY, category)\n",
    "        images=[]\n",
    "        labels=[]\n",
    "        print(\"loading {}\".format(category))\n",
    "        \n",
    "        for folder in os.listdir(path):\n",
    "            label=class_name_labels[folder]\n",
    "            \n",
    "            #iterate through each image in our floder\n",
    "            for file in os.listdir(os.path.join(path, folder)):\n",
    "                \n",
    "                #get the path name of the image\n",
    "                img_path=os.path.join(os.path.join(path, folder),file)\n",
    "                # open and resize the image\n",
    "                image=cv2.imread(img_path)\n",
    "                image=cv2.cvtColor(image,cv2.COLOR_BGR2RGB)\n",
    "                image=cv2.resize(image,IMAGE_SIZE)\n",
    "                \n",
    "                # append the image and its corresponding label to the output\n",
    "                images.append(image)\n",
    "                labels.append(label)\n",
    "        images=np.array(images, dtype ='float32')\n",
    "        labels=np.array(labels, dtype ='int32')\n",
    "            \n",
    "        output.append((images,labels))\n",
    "    return output\n",
    "                \n",
    "        "
   ]
  },
  {
   "cell_type": "code",
   "execution_count": 4,
   "id": "e43f104c",
   "metadata": {},
   "outputs": [
    {
     "name": "stdout",
     "output_type": "stream",
     "text": [
      "loading seg_train\n",
      "loading seg_test\n"
     ]
    }
   ],
   "source": [
    "(train_images,train_labels),(test_images, test_labels)=load_data()"
   ]
  },
  {
   "cell_type": "code",
   "execution_count": 5,
   "id": "995d67d5",
   "metadata": {},
   "outputs": [],
   "source": [
    "train_images,train_labels=shuffle(train_images,train_labels,random_state=25)"
   ]
  },
  {
   "cell_type": "markdown",
   "id": "cafabf9b",
   "metadata": {},
   "source": [
    "# creating a CNN"
   ]
  },
  {
   "cell_type": "code",
   "execution_count": 6,
   "id": "3a154a72",
   "metadata": {},
   "outputs": [],
   "source": [
    "model=tf.keras.Sequential([\n",
    "    tf.keras.layers.Conv2D(32, (3,3), activation ='relu',input_shape = (150,150, 3)),\n",
    "    tf.keras.layers.MaxPooling2D(2,2),\n",
    "    tf.keras.layers.Conv2D(32, (3,3), activation ='relu'),\n",
    "    tf.keras.layers.MaxPooling2D(2,2),\n",
    "    tf.keras.layers.Flatten(),\n",
    "    tf.keras.layers.Dense(128,activation=tf.nn.relu),\n",
    "    tf.keras.layers.Dense(6,activation=tf.nn.softmax),\n",
    "])"
   ]
  },
  {
   "cell_type": "code",
   "execution_count": 7,
   "id": "e4cc5f7a",
   "metadata": {},
   "outputs": [],
   "source": [
    "model.compile(optimizer = 'adam', loss='sparse_categorical_crossentropy',metrics=['accuracy'])"
   ]
  },
  {
   "cell_type": "code",
   "execution_count": 8,
   "id": "19a316b9",
   "metadata": {},
   "outputs": [
    {
     "name": "stdout",
     "output_type": "stream",
     "text": [
      "Epoch 1/6\n",
      "1/1 [==============================] - 67s 67s/step - loss: 52.7279 - accuracy: 0.0250 - val_loss: 1004.4982 - val_accuracy: 0.1500\n",
      "Epoch 2/6\n",
      "1/1 [==============================] - 3s 3s/step - loss: 1000.4711 - accuracy: 0.2125 - val_loss: 679.7263 - val_accuracy: 0.2000\n",
      "Epoch 3/6\n",
      "1/1 [==============================] - 3s 3s/step - loss: 726.7217 - accuracy: 0.2000 - val_loss: 389.8384 - val_accuracy: 0.2500\n",
      "Epoch 4/6\n",
      "1/1 [==============================] - 2s 2s/step - loss: 448.1183 - accuracy: 0.1875 - val_loss: 216.6927 - val_accuracy: 0.2000\n",
      "Epoch 5/6\n",
      "1/1 [==============================] - 2s 2s/step - loss: 242.5896 - accuracy: 0.2250 - val_loss: 243.6280 - val_accuracy: 0.2000\n",
      "Epoch 6/6\n",
      "1/1 [==============================] - 2s 2s/step - loss: 254.9583 - accuracy: 0.2125 - val_loss: 155.6018 - val_accuracy: 0.2000\n"
     ]
    }
   ],
   "source": [
    "history= model.fit(train_images, train_labels, batch_size=120, epochs=6,validation_split=0.2)"
   ]
  },
  {
   "cell_type": "code",
   "execution_count": 9,
   "id": "161019b8",
   "metadata": {},
   "outputs": [],
   "source": [
    "def plot_accuracy_loss(history):\n",
    "    fig=plt.figure(figsize=(10,5))\n",
    "    plt.subplot(221)\n",
    "    plt.plot(history.history['accuracy'],'bo--')\n",
    "    plt.plot(history.history['val_accuracy'],'ro--')\n",
    "    plt.title(\"train_acc vs val_acc\")\n",
    "    plt.ylabel('accuracy')\n",
    "    plt.xlabel(\"epochs\")\n",
    "   \n",
    "    \n",
    "    \n",
    "    plt.subplot(222)\n",
    "    plt.plot(history.history['loss'],'bo--')\n",
    "    plt.plot(history.history['val_loss'],'ro--')\n",
    "    plt.title(\"train_loss vs val_loss\")\n",
    "    plt.ylabel('loss')\n",
    "    plt.xlabel(\"epochs\")\n",
    "    \n",
    "    plt.show()"
   ]
  },
  {
   "cell_type": "code",
   "execution_count": 10,
   "id": "c8dd71f8",
   "metadata": {},
   "outputs": [
    {
     "data": {
      "image/png": "[encoded data removed]",
      "text/plain": [
       "<Figure size 720x360 with 2 Axes>"
      ]
     },
     "metadata": {},
     "output_type": "display_data"
    }
   ],
   "source": [
    "plot_accuracy_loss(history)"
   ]
  },
  {
   "cell_type": "code",
   "execution_count": 11,
   "id": "efb09755",
   "metadata": {},
   "outputs": [
    {
     "name": "stdout",
     "output_type": "stream",
     "text": [
      "4/4 [==============================] - 1s 159ms/step - loss: 153.5699 - accuracy: 0.2100\n"
     ]
    }
   ],
   "source": [
    "test_loss=model.evaluate(test_images,test_labels)"
   ]
  },
  {
   "cell_type": "code",
   "execution_count": 12,
   "id": "e1794e26",
   "metadata": {},
   "outputs": [],
   "source": [
    "predictions=model.predict(test_images)\n",
    "pred_labels=np.argmax(predictions,axis=1)"
   ]
  },
  {
   "cell_type": "code",
   "execution_count": 13,
   "id": "83e1c8f6",
   "metadata": {
    "scrolled": true
   },
   "outputs": [
    {
     "name": "stdout",
     "output_type": "stream",
     "text": [
      "              precision    recall  f1-score   support\n",
      "\n",
      "           0       0.00      0.00      0.00        20\n",
      "           1       0.20      1.00      0.34        20\n",
      "           2       0.00      0.00      0.00        20\n",
      "           3       0.00      0.00      0.00        20\n",
      "           4       1.00      0.05      0.10        20\n",
      "\n",
      "    accuracy                           0.21       100\n",
      "   macro avg       0.24      0.21      0.09       100\n",
      "weighted avg       0.24      0.21      0.09       100\n",
      "\n"
     ]
    },
    {
     "name": "stderr",
     "output_type": "stream",
     "text": [
      "C:\\Users\\DELL\\anaconda3\\lib\\site-packages\\sklearn\\metrics\\_classification.py:1245: UndefinedMetricWarning: Precision and F-score are ill-defined and being set to 0.0 in labels with no predicted samples. Use `zero_division` parameter to control this behavior.\n",
      "  _warn_prf(average, modifier, msg_start, len(result))\n",
      "C:\\Users\\DELL\\anaconda3\\lib\\site-packages\\sklearn\\metrics\\_classification.py:1245: UndefinedMetricWarning: Precision and F-score are ill-defined and being set to 0.0 in labels with no predicted samples. Use `zero_division` parameter to control this behavior.\n",
      "  _warn_prf(average, modifier, msg_start, len(result))\n",
      "C:\\Users\\DELL\\anaconda3\\lib\\site-packages\\sklearn\\metrics\\_classification.py:1245: UndefinedMetricWarning: Precision and F-score are ill-defined and being set to 0.0 in labels with no predicted samples. Use `zero_division` parameter to control this behavior.\n",
      "  _warn_prf(average, modifier, msg_start, len(result))\n"
     ]
    }
   ],
   "source": [
    "print(classification_report(test_labels,pred_labels))"
   ]
  },
  {
   "cell_type": "code",
   "execution_count": null,
   "id": "42816990",
   "metadata": {},
   "outputs": [],
   "source": []
  }
 ],
 "metadata": {
  "kernelspec": {
   "display_name": "Python 3",
   "language": "python",
   "name": "python3"
  },
  "language_info": {
   "codemirror_mode": {
    "name": "ipython",
    "version": 3
   },
   "file_extension": ".py",
   "mimetype": "text/x-python",
   "name": "python",
   "nbconvert_exporter": "python",
   "pygments_lexer": "ipython3",
   "version": "3.8.8"
  }
 },
 "nbformat": 4,
 "nbformat_minor": 5
}
